{
 "cells": [
  {
   "cell_type": "code",
   "execution_count": 1,
   "metadata": {},
   "outputs": [],
   "source": [
    "import numpy as np\n",
    "import statistics"
   ]
  },
  {
   "cell_type": "code",
   "execution_count": 2,
   "metadata": {},
   "outputs": [
    {
     "name": "stdout",
     "output_type": "stream",
     "text": [
      "Mean: 17.4\n",
      "Median: 18\n",
      "Mode: 12\n",
      "Variance: 15.8\n",
      "Standard Deviation: 3.9749213828703582\n",
      "Range: 10\n",
      "Interquartile Range (IQR): 5.0\n"
     ]
    }
   ],
   "source": [
    "data = [12, 15, 18, 20, 22]\n",
    "mean_value = statistics.mean(data)\n",
    "print(\"Mean:\", mean_value)\n",
    "median_value = statistics.median(data)\n",
    "print(\"Median:\", median_value)\n",
    "mode_value = statistics.mode(data)\n",
    "print(\"Mode:\", mode_value)\n",
    "variance_value = statistics.variance(data)\n",
    "print(\"Variance:\", variance_value)\n",
    "\n",
    "std_deviation_value = statistics.stdev(data)\n",
    "print(\"Standard Deviation:\", std_deviation_value)\n",
    "data_range = max(data) - min(data)\n",
    "\n",
    "print(\"Range:\", data_range)\n",
    "q1 = np.quantile(data, 0.25)\n",
    "q3 = np.quantile(data, 0.75)\n",
    "iqr = q3 - q1\n",
    "print(\"Interquartile Range (IQR):\", iqr)\n"
   ]
  },
  {
   "cell_type": "code",
   "execution_count": 3,
   "metadata": {},
   "outputs": [
    {
     "name": "stdout",
     "output_type": "stream",
     "text": [
      "Interquartile Range (IQR): 22.25\n"
     ]
    }
   ],
   "source": [
    "data=[5, 10, 15, 20, 25, 39, 35, 40]\n",
    "q1 = np.quantile(data, 0.25)\n",
    "q3 = np.quantile(data, 0.75)\n",
    "iqr = q3 - q1\n",
    "print(\"Interquartile Range (IQR):\", iqr)"
   ]
  },
  {
   "cell_type": "code",
   "execution_count": 4,
   "metadata": {},
   "outputs": [
    {
     "name": "stdout",
     "output_type": "stream",
     "text": [
      "25th Percentile: 13.75\n"
     ]
    }
   ],
   "source": [
    "data = [5, 10, 15, 20, 25, 30, 35, 40]\n",
    "percentile_25 = np.percentile(data, 25)\n",
    "percentile_75 =np.percentile(data, 75)\n",
    "print(\"25th Percentile:\", percentile_25)"
   ]
  }
 ],
 "metadata": {
  "kernelspec": {
   "display_name": "base",
   "language": "python",
   "name": "python3"
  },
  "language_info": {
   "codemirror_mode": {
    "name": "ipython",
    "version": 3
   },
   "file_extension": ".py",
   "mimetype": "text/x-python",
   "name": "python",
   "nbconvert_exporter": "python",
   "pygments_lexer": "ipython3",
   "version": "3.12.3"
  }
 },
 "nbformat": 4,
 "nbformat_minor": 2
}
